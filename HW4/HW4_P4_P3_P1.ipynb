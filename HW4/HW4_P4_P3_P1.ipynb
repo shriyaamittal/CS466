{
 "cells": [
  {
   "cell_type": "code",
   "execution_count": 1,
   "metadata": {
    "collapsed": true
   },
   "outputs": [],
   "source": [
    "import numpy as np\n",
    "import math"
   ]
  },
  {
   "cell_type": "code",
   "execution_count": 2,
   "metadata": {
    "collapsed": true
   },
   "outputs": [],
   "source": [
    "## Problem 4"
   ]
  },
  {
   "cell_type": "code",
   "execution_count": 2,
   "metadata": {
    "collapsed": true
   },
   "outputs": [],
   "source": [
    "f=open('P4_data.txt','rb')"
   ]
  },
  {
   "cell_type": "code",
   "execution_count": 3,
   "metadata": {
    "collapsed": false
   },
   "outputs": [],
   "source": [
    "data=[]\n",
    "for line in f:\n",
    "    cols=line.strip().split('\\t')\n",
    "    data.append(np.array((float(cols[1]),float(cols[2]))))\n",
    "f.close()"
   ]
  },
  {
   "cell_type": "code",
   "execution_count": 4,
   "metadata": {
    "collapsed": false
   },
   "outputs": [
    {
     "data": {
      "text/plain": [
       "[array([ 1. ,  2.5]),\n",
       " array([ 1.,  2.]),\n",
       " array([ 3.,  2.]),\n",
       " array([ 3.,  1.]),\n",
       " array([ 3.5,  2.5])]"
      ]
     },
     "execution_count": 4,
     "metadata": {},
     "output_type": "execute_result"
    }
   ],
   "source": [
    "data"
   ]
  },
  {
   "cell_type": "code",
   "execution_count": 5,
   "metadata": {
    "collapsed": false
   },
   "outputs": [],
   "source": [
    "f=open('P4_step1.txt','wb')\n",
    "\n",
    "for i in range(len(data)):\n",
    "    for j in range(len(data)):\n",
    "        dist = float(\"{0:.2f}\".format(math.sqrt((data[i][0]-data[j][0])**2+(data[i][1]-data[j][1])**2)))\n",
    "        f.write(str(dist)+'\\t')\n",
    "    f.write('\\n')"
   ]
  },
  {
   "cell_type": "code",
   "execution_count": 6,
   "metadata": {
    "collapsed": true
   },
   "outputs": [],
   "source": [
    "f.close()"
   ]
  },
  {
   "cell_type": "code",
   "execution_count": 8,
   "metadata": {
    "collapsed": true
   },
   "outputs": [],
   "source": [
    "## Problem 3"
   ]
  },
  {
   "cell_type": "code",
   "execution_count": 9,
   "metadata": {
    "collapsed": true
   },
   "outputs": [],
   "source": [
    "f=open('P3_data.txt','rb')"
   ]
  },
  {
   "cell_type": "code",
   "execution_count": 10,
   "metadata": {
    "collapsed": true
   },
   "outputs": [],
   "source": [
    "data=[]\n",
    "for line in f:\n",
    "    cols=line.strip().split('\\t')\n",
    "    data.append(np.array((float(cols[1]),float(cols[2]))))\n",
    "f.close()"
   ]
  },
  {
   "cell_type": "code",
   "execution_count": 11,
   "metadata": {
    "collapsed": false
   },
   "outputs": [],
   "source": [
    "f=open('P3_step1.txt','wb')\n",
    "\n",
    "C=[np.array((0,0)),np.array((2,3)),np.array((1.5,-1))]\n",
    "\n",
    "for i in range(len(data)):\n",
    "    r=[]\n",
    "    for j in range(len(C)):\n",
    "        dist = float(\"{0:.2f}\".format(math.sqrt((data[i][0]-C[j][0])**2+(data[i][1]-C[j][1])**2)))\n",
    "        r.append(dist)\n",
    "        f.write(str(dist)+'\\t')\n",
    "    f.write(str(r.index(min(r))+1))\n",
    "    f.write('\\n')\n",
    "f.close()"
   ]
  },
  {
   "cell_type": "code",
   "execution_count": 12,
   "metadata": {
    "collapsed": true
   },
   "outputs": [],
   "source": [
    "def CoG(points):\n",
    "    x=0\n",
    "    y=0\n",
    "    for i in range(len(points)):\n",
    "        x += points[i][0]\n",
    "        y += points[i][1]\n",
    "    return np.array((x/len(points), y/len(points)))"
   ]
  },
  {
   "cell_type": "code",
   "execution_count": 13,
   "metadata": {
    "collapsed": true
   },
   "outputs": [],
   "source": [
    "newC1=[]"
   ]
  },
  {
   "cell_type": "code",
   "execution_count": 14,
   "metadata": {
    "collapsed": true
   },
   "outputs": [],
   "source": [
    "assign1 = [1,6,7,8]\n",
    "assign2 = [2,3,4,5]\n",
    "assign3 = [9,10]"
   ]
  },
  {
   "cell_type": "code",
   "execution_count": 15,
   "metadata": {
    "collapsed": true
   },
   "outputs": [],
   "source": [
    "newlist=[]\n",
    "for i in assign1:\n",
    "    newlist.append(data[i-1])\n",
    "newC1.append(CoG(newlist))"
   ]
  },
  {
   "cell_type": "code",
   "execution_count": 16,
   "metadata": {
    "collapsed": false
   },
   "outputs": [],
   "source": [
    "newlist=[]\n",
    "for i in assign2:\n",
    "    newlist.append(data[i-1])\n",
    "newC1.append(CoG(newlist))"
   ]
  },
  {
   "cell_type": "code",
   "execution_count": 17,
   "metadata": {
    "collapsed": true
   },
   "outputs": [],
   "source": [
    "newlist=[]\n",
    "for i in assign3:\n",
    "    newlist.append(data[i-1])\n",
    "newC1.append(CoG(newlist))"
   ]
  },
  {
   "cell_type": "code",
   "execution_count": 18,
   "metadata": {
    "collapsed": false
   },
   "outputs": [
    {
     "data": {
      "text/plain": [
       "[array([-0.25,  0.5 ]), array([ 2.75,  2.  ]), array([ 0.75, -1.  ])]"
      ]
     },
     "execution_count": 18,
     "metadata": {},
     "output_type": "execute_result"
    }
   ],
   "source": [
    "newC1"
   ]
  },
  {
   "cell_type": "code",
   "execution_count": 19,
   "metadata": {
    "collapsed": true
   },
   "outputs": [],
   "source": [
    "f=open('P3_step2.txt','wb')\n",
    "\n",
    "for i in range(len(data)):\n",
    "    r=[]\n",
    "    for j in range(len(C)):\n",
    "        dist = float(\"{0:.2f}\".format(math.sqrt((data[i][0]-newC1[j][0])**2+(data[i][1]-newC1[j][1])**2)))\n",
    "        r.append(dist)\n",
    "        f.write(str(dist)+'\\t')\n",
    "    f.write(str(r.index(min(r))+1))\n",
    "    f.write('\\n')\n",
    "f.close()"
   ]
  },
  {
   "cell_type": "code",
   "execution_count": 20,
   "metadata": {
    "collapsed": true
   },
   "outputs": [],
   "source": [
    "newC1=[]\n",
    "assign1 = [1,6,7,8]\n",
    "assign2 = [2,3,4,5]\n",
    "assign3 = [9,10]"
   ]
  },
  {
   "cell_type": "code",
   "execution_count": 21,
   "metadata": {
    "collapsed": true
   },
   "outputs": [],
   "source": [
    "newlist=[]\n",
    "for i in assign1:\n",
    "    newlist.append(data[i-1])\n",
    "newC1.append(CoG(newlist))\n",
    "newlist=[]\n",
    "for i in assign2:\n",
    "    newlist.append(data[i-1])\n",
    "newC1.append(CoG(newlist))\n",
    "newlist=[]\n",
    "for i in assign3:\n",
    "    newlist.append(data[i-1])\n",
    "newC1.append(CoG(newlist))"
   ]
  },
  {
   "cell_type": "code",
   "execution_count": 22,
   "metadata": {
    "collapsed": false
   },
   "outputs": [
    {
     "data": {
      "text/plain": [
       "[array([-0.25,  0.5 ]), array([ 2.75,  2.  ]), array([ 0.75, -1.  ])]"
      ]
     },
     "execution_count": 22,
     "metadata": {},
     "output_type": "execute_result"
    }
   ],
   "source": [
    "newC1"
   ]
  },
  {
   "cell_type": "code",
   "execution_count": 23,
   "metadata": {
    "collapsed": true
   },
   "outputs": [],
   "source": [
    "## Problem 1"
   ]
  },
  {
   "cell_type": "code",
   "execution_count": 24,
   "metadata": {
    "collapsed": true
   },
   "outputs": [],
   "source": [
    "f=open('P1_data.txt','rb')\n",
    "P=[]\n",
    "for line in f:\n",
    "    P.append(float(line))"
   ]
  },
  {
   "cell_type": "code",
   "execution_count": 25,
   "metadata": {
    "collapsed": true
   },
   "outputs": [],
   "source": [
    "f.close()"
   ]
  },
  {
   "cell_type": "code",
   "execution_count": 30,
   "metadata": {
    "collapsed": false
   },
   "outputs": [],
   "source": [
    "g=len(P)\n",
    "FDR=0.2"
   ]
  },
  {
   "cell_type": "code",
   "execution_count": 39,
   "metadata": {
    "collapsed": false
   },
   "outputs": [],
   "source": [
    "Q=[]\n",
    "for i in range(g):\n",
    "    Q.append((i+1)*FDR/g)"
   ]
  },
  {
   "cell_type": "code",
   "execution_count": 40,
   "metadata": {
    "collapsed": true
   },
   "outputs": [
    {
     "data": {
      "text/plain": [
       "[0.01,\n",
       " 0.02,\n",
       " 0.030000000000000006,\n",
       " 0.04,\n",
       " 0.05,\n",
       " 0.06000000000000001,\n",
       " 0.07,\n",
       " 0.08,\n",
       " 0.09,\n",
       " 0.1,\n",
       " 0.11000000000000001,\n",
       " 0.12000000000000002,\n",
       " 0.13,\n",
       " 0.14,\n",
       " 0.15,\n",
       " 0.16,\n",
       " 0.17,\n",
       " 0.18,\n",
       " 0.19,\n",
       " 0.2]"
      ]
     },
     "execution_count": 40,
     "metadata": {},
     "output_type": "execute_result"
    }
   ],
   "source": [
    "Q"
   ]
  },
  {
   "cell_type": "code",
   "execution_count": 42,
   "metadata": {
    "collapsed": false
   },
   "outputs": [
    {
     "name": "stdout",
     "output_type": "stream",
     "text": [
      "1\n",
      "2\n",
      "3\n",
      "4\n",
      "5\n",
      "6\n",
      "7\n",
      "8\n",
      "9\n",
      "10\n",
      "11\n",
      "12\n"
     ]
    }
   ],
   "source": [
    "for i in range(g):\n",
    "    if (P[i]<=Q[i]):\n",
    "        print i+1"
   ]
  }
 ],
 "metadata": {
  "kernelspec": {
   "display_name": "Python 2",
   "language": "python",
   "name": "python2"
  },
  "language_info": {
   "codemirror_mode": {
    "name": "ipython",
    "version": 2
   },
   "file_extension": ".py",
   "mimetype": "text/x-python",
   "name": "python",
   "nbconvert_exporter": "python",
   "pygments_lexer": "ipython2",
   "version": "2.7.12"
  }
 },
 "nbformat": 4,
 "nbformat_minor": 1
}
